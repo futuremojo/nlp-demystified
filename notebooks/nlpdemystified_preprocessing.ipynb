{
  "nbformat": 4,
  "nbformat_minor": 0,
  "metadata": {
    "colab": {
      "name": "nlpdemystified-preprocessing.ipynb",
      "private_outputs": true,
      "provenance": [],
      "collapsed_sections": [],
      "include_colab_link": true
    },
    "kernelspec": {
      "name": "python3",
      "display_name": "Python 3"
    }
  },
  "cells": [
    {
      "cell_type": "markdown",
      "metadata": {
        "id": "view-in-github",
        "colab_type": "text"
      },
      "source": [
        "<a href=\"https://colab.research.google.com/github/futuremojo/nlp-demystified/blob/main/notebooks/nlpdemystified_preprocessing.ipynb\" target=\"_parent\"><img src=\"https://colab.research.google.com/assets/colab-badge.svg\" alt=\"Open In Colab\"/></a>"
      ]
    },
    {
      "cell_type": "markdown",
      "metadata": {
        "id": "DM8kLxUEVc3Z"
      },
      "source": [
        "# Natural Language Processing Demystified | Preprocessing\n",
        "https://nlpdemystified.org<br>\n",
        "https://github.com/futuremojo/nlp-demystified"
      ]
    },
    {
      "cell_type": "markdown",
      "metadata": {
        "id": "btimL_w92Q3P"
      },
      "source": [
        "### spaCy upgrade and package installation."
      ]
    },
    {
      "cell_type": "markdown",
      "metadata": {
        "id": "u7Ll-fUK2VZs"
      },
      "source": [
        "At the time this notebook was created, spaCy had newer releases but Colab was still using version 2.x by default. So the first step is to upgrade spaCy.\n",
        "<br><br>\n",
        "**IMPORTANT**<br>\n",
        "If you're running this in the cloud rather than using a local Jupyter server on your machine, then the notebook will **timeout** after a period of inactivity. If that happens and you don't reconnect in time, you will need to upgrade spaCy again and reinstall the requisite statistical packages.\n",
        "<br><br>\n",
        "Refer to this link on how to run Colab notebooks locally on your machine to avoid this issue:<br>\n",
        "https://research.google.com/colaboratory/local-runtimes.html"
      ]
    },
    {
      "cell_type": "code",
      "metadata": {
        "id": "cve1-G7j2VTN"
      },
      "source": [
        "!pip install -U spacy==3.* "
      ],
      "execution_count": null,
      "outputs": []
    },
    {
      "cell_type": "code",
      "metadata": {
        "id": "z-FDdbc62VHd"
      },
      "source": [
        "!python -m spacy info"
      ],
      "execution_count": null,
      "outputs": []
    },
    {
      "cell_type": "code",
      "metadata": {
        "id": "8vW9svTE289D"
      },
      "source": [
        " import spacy "
      ],
      "execution_count": null,
      "outputs": []
    },
    {
      "cell_type": "markdown",
      "metadata": {
        "id": "ZfJKSJEU2U_s"
      },
      "source": [
        "After importing spaCy, the next thing we need to do is load a suitable statistical model for our project. spaCy offers a variety of models for different languages. These models help with tokenization, part-of-speech tagging, named entity recognition, and more.\n",
        "\n",
        "Here, we're loading the **en_core_web_sm** model which is the smallest English model spaCy offers and is a good starting point for NLP tasks.<br>\n",
        "https://spacy.io/models/en#en_core_web_sm"
      ]
    },
    {
      "cell_type": "markdown",
      "metadata": {
        "id": "6v6TGQff2iu6"
      },
      "source": [
        "Since we upgraded spaCy, we'll need to download the statistical model as well."
      ]
    },
    {
      "cell_type": "code",
      "metadata": {
        "id": "4uOyHDNb2i5d"
      },
      "source": [
        "!python -m spacy download en_core_web_sm"
      ],
      "execution_count": null,
      "outputs": []
    },
    {
      "cell_type": "code",
      "metadata": {
        "id": "mWDrpxDk2_r2"
      },
      "source": [
        "nlp = spacy.load('en_core_web_sm')"
      ],
      "execution_count": null,
      "outputs": []
    },
    {
      "cell_type": "markdown",
      "metadata": {
        "id": "K7YCbWtG3LJO"
      },
      "source": [
        "**en_core_web_sm** is trained on OntoNotes 5 which is an annotated corpus comprising news, blogs, transcripts, etc. Put simply, this means a bunch of documents were labelled with information such as how each sentence should be parsed, whether a particular word is a noun or adjective or other part-of-speech, whether a word is a special entity like a person or a real-world organization, and other language-related labels. A statistical model was then generated from these labelled documents.<br>\n",
        "https://catalog.ldc.upenn.edu/LDC2013T19\n",
        "<br><br>\n",
        "You can learn more about the available spaCy models at these links:<br>\n",
        "https://spacy.io/models<br>\n",
        "https://spacy.io/usage/models"
      ]
    },
    {
      "cell_type": "markdown",
      "metadata": {
        "id": "dvF_udvi3OTO"
      },
      "source": [
        "After loading the model, the _nlp_ variable now references a **Language** class instance which contains language-specific rules for various tasks (e.g. tokenization) and a processing pipeline.<br>\n",
        "https://spacy.io/api/language"
      ]
    },
    {
      "cell_type": "code",
      "metadata": {
        "id": "DAYGtQpT3UNN"
      },
      "source": [
        "type(nlp) "
      ],
      "execution_count": null,
      "outputs": []
    },
    {
      "cell_type": "markdown",
      "metadata": {
        "id": "unmnGRu8D-wa"
      },
      "source": [
        "# Tokenization\n",
        "\n",
        "Course module for this demo:\n",
        "https://www.nlpdemystified.org/course/tokenization\n"
      ]
    },
    {
      "cell_type": "markdown",
      "metadata": {
        "id": "mLUcGm3IbQki"
      },
      "source": [
        "### Tokenization with spaCy"
      ]
    },
    {
      "cell_type": "markdown",
      "metadata": {
        "id": "13twUCp2i_p8"
      },
      "source": [
        "We pass whatever text we want to process to _nlp_, which returns a **Doc** container object containing the tokenized text and a number of annotations for each token. These annotations are discussed in follow-up videos. You can learn more about the **Doc** object here:<br>\n",
        "https://spacy.io/api/doc"
      ]
    },
    {
      "cell_type": "code",
      "metadata": {
        "id": "BIoEJZ-IkHQ4"
      },
      "source": [
        "# Sample sentence.\n",
        "s = \"He didn't want to pay $20 for this book.\"\n",
        "doc = nlp(s)"
      ],
      "execution_count": null,
      "outputs": []
    },
    {
      "cell_type": "markdown",
      "metadata": {
        "id": "MMWZK3ZSk9-f"
      },
      "source": [
        "We can iterate over this **Doc** object and view the tokens."
      ]
    },
    {
      "cell_type": "code",
      "metadata": {
        "id": "8SzqhZuulAe1"
      },
      "source": [
        "print([t.text for t in doc])"
      ],
      "execution_count": null,
      "outputs": []
    },
    {
      "cell_type": "markdown",
      "metadata": {
        "id": "ai1obkB93GdD"
      },
      "source": [
        "Note how\n",
        "- \"didn't\" is separated into \"did\"  and \"n't\".\n",
        "- the currency symbol and amount are separated.\n",
        "- the period at the end of the sentence is its own token."
      ]
    },
    {
      "cell_type": "markdown",
      "metadata": {
        "id": "AWH49gIh3hqN"
      },
      "source": [
        "The **Doc** object can be indexed and sliced like a regular list. The **Doc** object contains **Token** and **Span** objects, which offer different views into the text."
      ]
    },
    {
      "cell_type": "code",
      "metadata": {
        "id": "MwLrxRsE3oKI"
      },
      "source": [
        "# We can view an individual token by indexing into the Doc object.\n",
        "print(doc[0])"
      ],
      "execution_count": null,
      "outputs": []
    },
    {
      "cell_type": "code",
      "metadata": {
        "id": "bGapNHYQFYVa"
      },
      "source": [
        "# A Doc object is a container of other objects, namely Token and Span objects.\n",
        "print(type(doc[0]))"
      ],
      "execution_count": null,
      "outputs": []
    },
    {
      "cell_type": "code",
      "metadata": {
        "id": "EtL2IgIAGOd9"
      },
      "source": [
        "# Slicing a Doc object returns a Span object.\n",
        "print(doc[0:3])\n",
        "print(type(doc[0:3]))"
      ],
      "execution_count": null,
      "outputs": []
    },
    {
      "cell_type": "code",
      "metadata": {
        "id": "xybH4jjYGo73"
      },
      "source": [
        "# Access a token's index in a sentence.\n",
        "print([(t.text, t.i) for t in doc])"
      ],
      "execution_count": null,
      "outputs": []
    },
    {
      "cell_type": "markdown",
      "metadata": {
        "id": "_TqE980F4Vrt"
      },
      "source": [
        "Spacy's tokenization is _non-destructive_, which means the original input can be reconstructed from the tokens."
      ]
    },
    {
      "cell_type": "code",
      "metadata": {
        "id": "OjXb8mR_DK-1"
      },
      "source": [
        "# You can view the original input like so:\n",
        "print(doc.text)"
      ],
      "execution_count": null,
      "outputs": []
    },
    {
      "cell_type": "markdown",
      "metadata": {
        "id": "73vuSX7MDK79"
      },
      "source": [
        "You can learn more about the **Token** and **Span** objects here:<br>\n",
        "https://spacy.io/api/token<br>\n",
        "https://spacy.io/api/span\n"
      ]
    },
    {
      "cell_type": "markdown",
      "metadata": {
        "id": "lume_1UP6ySQ"
      },
      "source": [
        "We can also tokenize multiple sentences and access each sentence individually using the **Doc** object's _sents_ property."
      ]
    },
    {
      "cell_type": "code",
      "metadata": {
        "id": "mPZ86x0hDK4m"
      },
      "source": [
        "s = \"\"\"Either the well was very deep, or she fell very slowly, for she \n",
        "had plenty of time as she went down to look about her and to wonder what \n",
        "was going to happen next. First, she tried to look down and make out what \n",
        "she was coming to, but it was too dark to see anything; then she looked at \n",
        "the sides of the well, and noticed that they were filled with cupboards and \n",
        "book-shelves; here and there she saw maps and pictures hung upon pegs.\"\"\"\n",
        "\n",
        "doc = nlp(s)\n",
        "\n",
        "# Look at individual sentences (there should be two 'Span' objects).\n",
        "print([sent for sent in doc.sents])"
      ],
      "execution_count": null,
      "outputs": []
    },
    {
      "cell_type": "markdown",
      "metadata": {
        "id": "DvSfDUyK06Qg"
      },
      "source": [
        "### Tokenization Exercises"
      ]
    },
    {
      "cell_type": "code",
      "metadata": {
        "id": "fyywcBrCHzSk"
      },
      "source": [
        "#\n",
        "# EXERCISE:\n",
        "# 1) Tokenize the following text\n",
        "# 2) Iterate through the tokens to check whether there's a currency symbol.\n",
        "# 3) If there is, and the currency label is followed by a number, print\n",
        "#    both the symbol and the number.\n",
        "# \n",
        "# Look through https://spacy.io/api/token#attributes on how to check whether\n",
        "# a token is a currency symbol or a number.\n",
        "#\n",
        "# Expected output: \"$20\".\n",
        "s = \"He didn't want to pay $20 for this book.\"\n",
        "doc = nlp(s)"
      ],
      "execution_count": null,
      "outputs": []
    },
    {
      "cell_type": "code",
      "metadata": {
        "id": "skajI-OZDK0t"
      },
      "source": [
        "#\n",
        "# EXERCISE: Learn how the spaCy tokenizer works and how to customize it:\n",
        "# https://spacy.io/usage/linguistic-features#tokenization\n",
        "#"
      ],
      "execution_count": null,
      "outputs": []
    },
    {
      "cell_type": "code",
      "metadata": {
        "id": "Ikbnyb8rDKv9"
      },
      "source": [
        "#\n",
        "# EXERCISE: Read through spaCy-101 and if you're interested, check out their course\n",
        "# on spaCy itself (link on the page).\n",
        "# https://spacy.io/usage/spacy-101\n",
        "#"
      ],
      "execution_count": null,
      "outputs": []
    },
    {
      "cell_type": "code",
      "metadata": {
        "id": "MMArLP91DKUW"
      },
      "source": [
        "#\n",
        "# EXERCISE: Look up how to tokenize the sentence below using NLTK. The imports \n",
        "# are done for you. Does the NLTK tokenizer handle \"N.Y.C.\" correctly?\n",
        "#\n",
        "import nltk\n",
        "from nltk.tokenize import TreebankWordTokenizer\n",
        "s = \"Let's go to N.Y.C. for the weekend.\""
      ],
      "execution_count": null,
      "outputs": []
    },
    {
      "cell_type": "markdown",
      "metadata": {
        "id": "EMbm9tTakDdy"
      },
      "source": [
        "**NOTE**: Different tokenizers will give subtly different results based on the rules they use. Experiment with different tokenizers and use the one best suited for your project."
      ]
    },
    {
      "cell_type": "markdown",
      "metadata": {
        "id": "uUsfYCpVT4nI"
      },
      "source": [
        "# Basic Preprocessing\n",
        "## Case-Folding, Stop Word Removal, Stemming, and Lemmatization.\n",
        "\n",
        "Course module for this demo:\n",
        "https://www.nlpdemystified.org/course/basic-preprocessing"
      ]
    },
    {
      "cell_type": "markdown",
      "source": [
        "**NOTE: If the notebook timed out, you may need to re-upgrade spaCy and re-install the language model as follows:**\n"
      ],
      "metadata": {
        "id": "5gaj23tgd7Su"
      }
    },
    {
      "cell_type": "code",
      "metadata": {
        "id": "mg6dga4JePf2"
      },
      "source": [
        "!pip install -U spacy==3.*\n",
        "!python -m spacy download en_core_web_sm\n",
        "!python -m spacy info"
      ],
      "execution_count": null,
      "outputs": []
    },
    {
      "cell_type": "markdown",
      "metadata": {
        "id": "LgDDrCeI8f-4"
      },
      "source": [
        "spaCy performs all these preprocessing steps (except stemming) behind the scenes for you. Inline with its non-destructive policy, the tokens aren't modified directly. Rather, each **Token** object has a number of attributes which can help you get views of your document with these pre-processing steps applied. The attributes a **Token** has can be found here:<br>\n",
        "https://spacy.io/api/token#attributes\n",
        "<br><br>\n",
        "More information about spaCy's processing pipeline:<br>\n",
        "https://spacy.io/usage/processing-pipelines"
      ]
    },
    {
      "cell_type": "code",
      "metadata": {
        "id": "jDEMR6En1j3H"
      },
      "source": [
        "import spacy\n",
        "nlp = spacy.load('en_core_web_sm')\n",
        "s = \"He told Dr. Lovato that he was done with the tests and would post the results shortly.\"\n",
        "doc = nlp(s)"
      ],
      "execution_count": null,
      "outputs": []
    },
    {
      "cell_type": "markdown",
      "metadata": {
        "id": "xwA1ct0obYlR"
      },
      "source": [
        "### Case-Folding"
      ]
    },
    {
      "cell_type": "markdown",
      "metadata": {
        "id": "biBPWrVd9BrK"
      },
      "source": [
        "View your document with case-folding using the *lower_* attribute."
      ]
    },
    {
      "cell_type": "code",
      "metadata": {
        "id": "1nt4RpzdgQQL"
      },
      "source": [
        "print([t.lower_ for t in doc])"
      ],
      "execution_count": null,
      "outputs": []
    },
    {
      "cell_type": "markdown",
      "metadata": {
        "id": "HL46I4sH9OMq"
      },
      "source": [
        "You can also apply conditions when generating these views. For example, we can skip case-folding if a token is the start of a sentence."
      ]
    },
    {
      "cell_type": "code",
      "metadata": {
        "id": "IO0PQ8IFhOlZ"
      },
      "source": [
        "print([t.lower_ if not t.is_sent_start else t for t in doc])"
      ],
      "execution_count": null,
      "outputs": []
    },
    {
      "cell_type": "markdown",
      "metadata": {
        "id": "G7pTz8XJbmaT"
      },
      "source": [
        "### Stop Word Removal"
      ]
    },
    {
      "cell_type": "markdown",
      "metadata": {
        "id": "tZLqqmHa9cRx"
      },
      "source": [
        "spaCy comes with a default stop word list. To view your document with stop words removed, you can use the *is_stop* attribute."
      ]
    },
    {
      "cell_type": "code",
      "metadata": {
        "id": "9kvXbuDEhOxu"
      },
      "source": [
        "# spaCy's default stop word list.\n",
        "print(nlp.Defaults.stop_words)\n",
        "print(len(nlp.Defaults.stop_words))"
      ],
      "execution_count": null,
      "outputs": []
    },
    {
      "cell_type": "code",
      "metadata": {
        "id": "oAS1xmgOhO5y"
      },
      "source": [
        "print([t for t in doc if not t.is_stop])"
      ],
      "execution_count": null,
      "outputs": []
    },
    {
      "cell_type": "markdown",
      "metadata": {
        "id": "UPd1aiLrbqcK"
      },
      "source": [
        "### Lemmatization"
      ]
    },
    {
      "cell_type": "markdown",
      "metadata": {
        "id": "gKidP32Y_qcE"
      },
      "source": [
        "It's similar with lemmatization. You can view your document with lemmatization applied through the *lemma_* attribute."
      ]
    },
    {
      "cell_type": "code",
      "metadata": {
        "id": "fhdRleESkzTu"
      },
      "source": [
        "[(t.text, t.lemma_) for t in doc]"
      ],
      "execution_count": null,
      "outputs": []
    },
    {
      "cell_type": "markdown",
      "metadata": {
        "id": "VuaQJPjEjADE"
      },
      "source": [
        "### Basic Preprocessing Exercises"
      ]
    },
    {
      "cell_type": "markdown",
      "metadata": {
        "id": "-uNdkuJqCA2A"
      },
      "source": [
        "spaCy doesn't support stemming natively. But for completeness, we can stem using **NLTK**. Specifically, we can use the *Snowball stemmer* which is an improved version of the *Porter stemmer*."
      ]
    },
    {
      "cell_type": "code",
      "metadata": {
        "id": "_HQzMurVB13l"
      },
      "source": [
        "#\n",
        "# EXERCISE: Find out how to intialize the SnowballStemmer, then tokenize\n",
        "# and stem the sentence below.\n",
        "#\n",
        "from nltk.stem.snowball import SnowballStemmer\n",
        "s = 'He told Dr. Lovato that he was done with the tests and would post the results shortly.'\n",
        "\n",
        "# Initialize the stemmer here.\n",
        "\n",
        "\n",
        "# Tokenize, stem, and print the tokens.\n"
      ],
      "execution_count": null,
      "outputs": []
    },
    {
      "cell_type": "code",
      "metadata": {
        "id": "wOXJI061npqN"
      },
      "source": [
        "#\n",
        "# EXERCISE: Find out how to add and remove your own stop words in spaCy. Add the \n",
        "# word 'told' as a stop word, test that it works, then remove it from \n",
        "# the stop word list.\n",
        "#"
      ],
      "execution_count": null,
      "outputs": []
    },
    {
      "cell_type": "code",
      "metadata": {
        "id": "RLcCYIy-lP1u"
      },
      "source": [
        "#\n",
        "# EXERCISE: Read up on how to add your own custom attributes to Token objects\n",
        "# and try adding one of your own.\n",
        "# https://spacy.io/usage/processing-pipelines#custom-components-attributes\n",
        "#"
      ],
      "execution_count": null,
      "outputs": []
    },
    {
      "cell_type": "markdown",
      "metadata": {
        "id": "o9HLYYUt1kOP"
      },
      "source": [
        "#Advanced Preprocessing\n",
        "\n",
        "## Part-of-Speech Tagging, Named Entity Recognition, and Parsing.\n",
        "\n",
        "Course module for this demo:\n",
        "https://www.nlpdemystified.org/course/advanced-preprocessing"
      ]
    },
    {
      "cell_type": "markdown",
      "source": [
        "**NOTE: If the notebook timed out, you may need to re-upgrade spaCy and re-install the language model as follows:**\n"
      ],
      "metadata": {
        "id": "DfBqaH9feymn"
      }
    },
    {
      "cell_type": "code",
      "metadata": {
        "id": "9xOdySsre_sP"
      },
      "source": [
        "!pip install -U spacy==3.*\n",
        "!python -m spacy download en_core_web_sm\n",
        "!python -m spacy info"
      ],
      "execution_count": null,
      "outputs": []
    },
    {
      "cell_type": "markdown",
      "metadata": {
        "id": "Tr5SqjHwSWpI"
      },
      "source": [
        "spaCy performs Part-of-Speech (POS) tagging, Named Entity Recognition (NER), and parsing as part of its default pipeline in the *nlp* object."
      ]
    },
    {
      "cell_type": "code",
      "metadata": {
        "id": "shgWRMCq1kmy"
      },
      "source": [
        "import spacy\n",
        "nlp = spacy.load('en_core_web_sm')\n",
        "s = \"John watched an old movie at the cinema.\"\n",
        "doc = nlp(s)"
      ],
      "execution_count": null,
      "outputs": []
    },
    {
      "cell_type": "markdown",
      "metadata": {
        "id": "lwMQgciGb3or"
      },
      "source": [
        "### Part-of-Speech Tagging"
      ]
    },
    {
      "cell_type": "markdown",
      "metadata": {
        "id": "AA9LDzULTW1_"
      },
      "source": [
        "POS tags can be accessed through the *pos_* attribute"
      ]
    },
    {
      "cell_type": "code",
      "metadata": {
        "id": "0-9YRcSZ1kqq"
      },
      "source": [
        "[(t.text, t.pos_) for t in doc]"
      ],
      "execution_count": null,
      "outputs": []
    },
    {
      "cell_type": "markdown",
      "source": [
        "To get a description for a POS tag, we can use _spacy.explain_."
      ],
      "metadata": {
        "id": "6UZcgwejnYm8"
      }
    },
    {
      "cell_type": "code",
      "source": [
        "spacy.explain('PROPN')"
      ],
      "metadata": {
        "id": "D9SXNvnmnW5e"
      },
      "execution_count": null,
      "outputs": []
    },
    {
      "cell_type": "markdown",
      "metadata": {
        "id": "5_WbFDZ-Tqu9"
      },
      "source": [
        "The POS tags above are called *course-grained* tags. You can also access *fine-grained* tags through the *tag_* attribute. Fine-grained tags provide more detailed information about a token such as its tense and, if a word is a pronoun, what specific type of pronoun it is."
      ]
    },
    {
      "cell_type": "code",
      "metadata": {
        "id": "1Z5oDzNr1kt2"
      },
      "source": [
        "[(t.text, t.tag_) for t in doc]"
      ],
      "execution_count": null,
      "outputs": []
    },
    {
      "cell_type": "markdown",
      "metadata": {
        "id": "jPOaN9yOUN-I"
      },
      "source": [
        "So **NNP** refers specifically to a _singular pronoun_, and **VBD** is a verb in *past tense*."
      ]
    },
    {
      "cell_type": "code",
      "metadata": {
        "id": "pnfLDxoG1kxf"
      },
      "source": [
        "print(spacy.explain('NNP'))\n",
        "print(spacy.explain('VBD'))"
      ],
      "execution_count": null,
      "outputs": []
    },
    {
      "cell_type": "markdown",
      "metadata": {
        "id": "jte6K6HJb750"
      },
      "source": [
        "### Named Entity Recognition"
      ]
    },
    {
      "cell_type": "markdown",
      "metadata": {
        "id": "2J2BjPyqWFEf"
      },
      "source": [
        "There are multiple ways to access named entities. One way is through the *ent_type_* attribute.\n"
      ]
    },
    {
      "cell_type": "code",
      "metadata": {
        "id": "dWjNrX6koNVj"
      },
      "source": [
        "s = \"Volkswagen is developing an electric sedan which could potentially come to America next fall.\"\n",
        "doc = nlp(s)\n",
        "\n",
        "[(t.text, t.ent_type_) for t in doc]"
      ],
      "execution_count": null,
      "outputs": []
    },
    {
      "cell_type": "markdown",
      "metadata": {
        "id": "OJL4wfS6Wp9N"
      },
      "source": [
        "You can view spaCy's named entities annotations here:<br>\n",
        "https://spacy.io/api/annotation#named-entities\n",
        "\n",
        "or use _spacy.explain_."
      ]
    },
    {
      "cell_type": "code",
      "source": [
        "spacy.explain('GPE')"
      ],
      "metadata": {
        "id": "iu4OiPwDo9So"
      },
      "execution_count": null,
      "outputs": []
    },
    {
      "cell_type": "markdown",
      "source": [
        "You can also check if a token is an entity before printing it by checking whether the _ent_type_ (note the lack of trailing underscore) attribute is non-zero."
      ],
      "metadata": {
        "id": "F7p8IcNGpBTP"
      }
    },
    {
      "cell_type": "code",
      "metadata": {
        "id": "0aBng8zdvjly"
      },
      "source": [
        "print([(t.text, t.ent_type_) for t in doc if t.ent_type != 0])"
      ],
      "execution_count": null,
      "outputs": []
    },
    {
      "cell_type": "markdown",
      "metadata": {
        "id": "5lNS65_2XJIY"
      },
      "source": [
        "Another way is through the _ents_ property of the **Doc** object. Here, we iterate through _ents_ and print the entity itself and its label."
      ]
    },
    {
      "cell_type": "code",
      "metadata": {
        "id": "kSCzxs02vjdL"
      },
      "source": [
        "print([(ent.text, ent.label_) for ent in doc.ents])"
      ],
      "execution_count": null,
      "outputs": []
    },
    {
      "cell_type": "markdown",
      "metadata": {
        "id": "dHfZmta8XX9Y"
      },
      "source": [
        "Note how \"next fall\" is outputted above as a single span when you use _ents_.\n",
        "<br><br>\n",
        "You can also access the positions of entities:"
      ]
    },
    {
      "cell_type": "code",
      "metadata": {
        "id": "mSzwRD0MvjTN"
      },
      "source": [
        "print([(ent.text, ent.label_, ent.start_char, ent.end_char) for ent in doc.ents])"
      ],
      "execution_count": null,
      "outputs": []
    },
    {
      "cell_type": "markdown",
      "metadata": {
        "id": "nvvQ9_7FdEHT"
      },
      "source": [
        "spaCy is bundled with visualizers for both parsing and named entities.<br>\n",
        "https://spacy.io/usage/visualizers\n",
        "<br><br>\n",
        "Here, we visualize the entities in our sample sentence."
      ]
    },
    {
      "cell_type": "code",
      "metadata": {
        "id": "87eLywmVZCdw"
      },
      "source": [
        "from spacy import displacy\n",
        "\n",
        "# We need to set the 'jupyter' variable to True in order to output\n",
        "# the visualization directly. Otherwise, you'll get raw HTML.\n",
        "displacy.render(doc, style='ent', jupyter=True)"
      ],
      "execution_count": null,
      "outputs": []
    },
    {
      "cell_type": "markdown",
      "source": [
        "For domain-specific corpora, an NER tagger may need to be further fine-tuned. Here, we may want _The Martian_ tagged as a \"FILM\" (assuming that's our goal)."
      ],
      "metadata": {
        "id": "PkNmqelTwTLZ"
      }
    },
    {
      "cell_type": "code",
      "metadata": {
        "id": "0bcIaah29MME"
      },
      "source": [
        "s = \"Ridley Scott directed The Martian.\"\n",
        "doc = nlp(s)\n",
        "displacy.render(doc, style='ent', jupyter=True)"
      ],
      "execution_count": null,
      "outputs": []
    },
    {
      "cell_type": "markdown",
      "metadata": {
        "id": "noGuG3JvcEfs"
      },
      "source": [
        "### Parsing"
      ]
    },
    {
      "cell_type": "markdown",
      "metadata": {
        "id": "ppWrztdJeO3J"
      },
      "source": [
        "Let's first visualize a parse to make it easier to follow."
      ]
    },
    {
      "cell_type": "code",
      "metadata": {
        "id": "xrvfA1TEvjJT"
      },
      "source": [
        "s = \"She enrolled in the course at the university.\"\n",
        "doc = nlp(s)\n",
        "\n",
        "# Note the 'style' argument is assigned a 'dep' flag this time around.\n",
        "displacy.render(doc, style='dep', jupyter=True)"
      ],
      "execution_count": null,
      "outputs": []
    },
    {
      "cell_type": "markdown",
      "metadata": {
        "id": "gRN7_SQ-fO5H"
      },
      "source": [
        "The visualization above is for a dependency parse (spaCy doesn't come with a constituency parser). For each pair of depencencies, spaCy visualizes the child (pointed to), the head (pointed from), and their relationship (the label arc). You can view the dependency annotations here:<br>\n",
        "https://spacy.io/api/annotation#dependency-parsing\n",
        "\n",
        "You can also use *spacy.explain* to get information on a particular annotation."
      ]
    },
    {
      "cell_type": "code",
      "metadata": {
        "id": "wvz1bLTZfqmv"
      },
      "source": [
        "spacy.explain('nsubj')"
      ],
      "execution_count": null,
      "outputs": []
    },
    {
      "cell_type": "markdown",
      "metadata": {
        "id": "dCvHyqHggIpd"
      },
      "source": [
        "The dependency labels themselves can be accessed through the *dep_* attribute."
      ]
    },
    {
      "cell_type": "code",
      "metadata": {
        "id": "iX_BgpMVoNaj"
      },
      "source": [
        "[(t.text, t.dep_) for t in doc]"
      ],
      "execution_count": null,
      "outputs": []
    },
    {
      "cell_type": "markdown",
      "metadata": {
        "id": "tt7zLq0ugR7O"
      },
      "source": [
        "Note how the word 'enrolled' is the _ROOT_.\n",
        "<br><br>\n",
        "But the labels above don't show how the words are related to each other (the arcs). To get a better idea, you can print the head of each dependency."
      ]
    },
    {
      "cell_type": "code",
      "metadata": {
        "id": "X15EOIq0oNfF"
      },
      "source": [
        "[(t.text, t.dep_, t.head.text) for t in doc]"
      ],
      "execution_count": null,
      "outputs": []
    },
    {
      "cell_type": "markdown",
      "metadata": {
        "id": "OFXPL37Rg2xm"
      },
      "source": [
        "### Using spaCy's Matcher to find patterns\n",
        "spaCy comes with a host of pattern-matching functionality. Beyond regex, spaCy can match on a variety of attributes such as POS tags, entity labels, lemmas, dependencies, entire phrases, and a lot more. You can learn more here:<br>\n",
        "https://spacy.io/usage/rule-based-matching<br>\n",
        "https://explosion.ai/demos/matcher\n",
        "<br><br>\n",
        "Here, we try to search for patterns that may be useful for a hospitality bot."
      ]
    },
    {
      "cell_type": "code",
      "metadata": {
        "id": "6v4hVnYmJuaK"
      },
      "source": [
        "# The general Matcher is one of multiple matcher objects\n",
        "# included with spaCy.\n",
        "from spacy.matcher import Matcher\n",
        "\n",
        "# We initialize the Matcher with the spaCy vocab object, which contains\n",
        "# words along with their labels and entities.\n",
        "matcher = Matcher(nlp.vocab)\n",
        "\n",
        "s = \"I want to book a hotel room.\"\n",
        "doc = nlp(s)\n",
        "\n",
        "# Patterns are expressed as an ordered sequence. Here, we're looking\n",
        "# to match occurrences starting with a 'book' string followed by\n",
        "# a determiner (DET) POS tag, then a noun POS tag.\n",
        "# The OP key marks the match as optional in some way.\n",
        "\n",
        "# Here, the DET POS (marked with '?') will match 0 or 1 times, and\n",
        "# the NOUN POS (marked with '+') will match 1 or more times.\n",
        "# See this link for more information:\n",
        "# https://spacy.io/usage/rule-based-matching#quantifiers\n",
        "pattern = [\n",
        "  {'TEXT': 'book'},\n",
        "  {'POS': 'DET', 'OP': '?'},\n",
        "  {'POS': 'NOUN', 'OP': '+'},\n",
        "]\n",
        "\n",
        "# We give our pattern a label and pass it to the matcher.\n",
        "matcher.add('USER_INTENT', [pattern])\n",
        "\n",
        "# Run the matcher over the doc.\n",
        "matches = matcher(doc)\n",
        "\n",
        "# For each match, the matcher returns a tuple specifying a match id, start, \n",
        "# and end of the match.\n",
        "print(\"Matches:\", [doc[start:end].text for match_id, start, end in matches])"
      ],
      "execution_count": null,
      "outputs": []
    },
    {
      "cell_type": "markdown",
      "metadata": {
        "id": "dygcIKF9plib"
      },
      "source": [
        "The code above demonstrates the Matcher but is brittle.\n",
        "- What if \"book\" is capitalized?\n",
        "- What if a user types \"reserve\" instead of \"book\"?\n",
        "- How can we match on \"hotel room\" as a compound noun?\n",
        "- What if a user types \"book a flight and hotel room\"?\n",
        "\n",
        "Can you think of how you would handle these cases?\n",
        "<br><br>\n",
        "We could come up more rules to match different patterns, or perhaps just search for keywords based on POS and entities (e.g. a country) and present the user with a bunch of possible intentions and let them choose one, or have a bunch of different interpretation functions submit answers and select the most likely one based on what was historically accepted most often. We can also ask clarifying questions to narrow things down.\n",
        "<br><br>\n",
        "For example, for the last sentence, you could have a function scan through the **Doc** object's *noun_chunks* (phrases that have a noun as their head) and isolate keywords there along with potential conjunctions (e.g. \"and\").<br>\n",
        "https://spacy.io/usage/linguistic-features#noun-chunks\n"
      ]
    },
    {
      "cell_type": "code",
      "metadata": {
        "id": "xctXGD5K5Gvr"
      },
      "source": [
        "doc = nlp(\"I want to book a flight and hotel room in Berlin.\")\n",
        "for noun_phrase in doc.noun_chunks:\n",
        "  print(\"phrase: {}, root head: {}\".format(noun_phrase, noun_phrase.root.head))"
      ],
      "execution_count": null,
      "outputs": []
    },
    {
      "cell_type": "markdown",
      "metadata": {
        "id": "zMsHWX-9EvXU"
      },
      "source": [
        "Using pure rules is a good place to start or prototype (especially if the domain is narrow with a tight set of use cases) but as our requirements get more sophisticated, we'll need to blend in other approaches such as classical models or perhaps deep learning (at the very least, maybe tune existing neural networks). spaCy's models can be updated with more examples to fine-tune predictions.<br>\n",
        "https://spacy.io/usage/training<br>\n",
        "<br>\n",
        "We'll keep learning more approaches as the course progresses."
      ]
    },
    {
      "cell_type": "markdown",
      "metadata": {
        "id": "knyuUv9cqsoY"
      },
      "source": [
        "### Talkin' like Yoda\n",
        "Languages like English are built around the _subject-verb-object_ pattern. But if you're familiar with Yoda from Star Wars, he famously speaks in an _object-subject-verb pattern_. Using the information in a dependency parse, we can turn basic English sentences into Yoda-speak."
      ]
    },
    {
      "cell_type": "code",
      "metadata": {
        "id": "L9AydbEIqsRQ"
      },
      "source": [
        "def yodize(s: str):\n",
        "  doc = nlp(s)\n",
        "  for t in doc:\n",
        "    if t.dep_ == \"ROOT\":\n",
        "\n",
        "      # Assuming our sentence is of the form subject-verb-object, we take \n",
        "      # everything after the root (likely verb) and put it in front, and \n",
        "      # likewise take everything before the root, and put it after.\n",
        "      seq = [doc[t.i + 1: -1].text, doc[0: t.i].text, t.text + '.']\n",
        "      seq[0] = seq[0].capitalize()\n",
        "      print(' '.join(seq))"
      ],
      "execution_count": null,
      "outputs": []
    },
    {
      "cell_type": "code",
      "metadata": {
        "id": "uIa8Cziwqqnf"
      },
      "source": [
        "yodize(\"I will fly to Texas.\")"
      ],
      "execution_count": null,
      "outputs": []
    },
    {
      "cell_type": "markdown",
      "metadata": {
        "id": "ofEnieaJZ8eX"
      },
      "source": [
        "This is ok for simple sentences but starts getting weird with longer, more convoluted sentences. What are some ways you would improve this?"
      ]
    },
    {
      "cell_type": "markdown",
      "metadata": {
        "id": "V92TUxWioNtq"
      },
      "source": [
        "### Advanced Preprocessing Exercises"
      ]
    },
    {
      "cell_type": "code",
      "metadata": {
        "id": "6Ltil7XSyzMe"
      },
      "source": [
        "#\n",
        "# EXERCISE: Learn how to extend spaCy's NER models. Specifically, how to add new\n",
        "# entity names and entity types. \n",
        "#"
      ],
      "execution_count": null,
      "outputs": []
    },
    {
      "cell_type": "code",
      "metadata": {
        "id": "1P58pxYkoN0j"
      },
      "source": [
        "#\n",
        "# EXERCISE: using doc.ents, identify and print the dates in this sentence.\n",
        "# Expected output: ['Feb 13th', 'Feb 24th']\n",
        "#\n",
        "s = \"We'll be in Osaka on Feb 13th and leave on Feb 24th.\"\n",
        "doc = nlp(s)\n",
        "\n"
      ],
      "execution_count": null,
      "outputs": []
    },
    {
      "cell_type": "code",
      "metadata": {
        "id": "OVFi0bxCoN4N"
      },
      "source": [
        "#\n",
        "# EXERCISE: Read about spaCy's PhraseMatcher\n",
        "# https://spacy.io/usage/rule-based-matching#phrasematcher\n",
        "#\n",
        "# Using the PhraseMatcher, find the start and end index of all occurrences \n",
        "# of 'Caesar Augustus' and 'Roman Empire' (case-insensitive).\n",
        "#\n",
        "# Expected output: [(0, 2), (15, 17)]\n",
        "#\n",
        "from spacy.matcher import PhraseMatcher\n",
        "s = \"Caesar Augustus was the founder of the Roman Principate (the first phase of the Roman Empire).\"\n",
        "doc = nlp(s)\n"
      ],
      "execution_count": null,
      "outputs": []
    },
    {
      "cell_type": "markdown",
      "metadata": {
        "id": "3nhN7p9G8taJ"
      },
      "source": [
        "# Additional Reading and Resources"
      ]
    },
    {
      "cell_type": "markdown",
      "metadata": {
        "id": "bM4G2KWa8wXO"
      },
      "source": [
        "Read through this page to learn more about spaCy's language processing pipeline including what's going on under the hood, how to create custom components, disable certain components (e.g. NER) when they're unneeded, optimization tips, and best practices:<br>\n",
        "https://spacy.io/usage/processing-pipelines\n",
        "<br><br>\n",
        "Take the free and succinct spaCy course (available in multiple languages):<br>\n",
        "https://course.spacy.io/\n"
      ]
    }
  ]
}
